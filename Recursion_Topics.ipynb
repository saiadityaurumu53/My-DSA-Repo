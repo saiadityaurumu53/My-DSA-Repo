{
  "nbformat": 4,
  "nbformat_minor": 0,
  "metadata": {
    "colab": {
      "provenance": [],
      "authorship_tag": "ABX9TyMCg9FMQBPZMSXRXZSVaTlC",
      "include_colab_link": true
    },
    "kernelspec": {
      "name": "python3",
      "display_name": "Python 3"
    },
    "language_info": {
      "name": "python"
    }
  },
  "cells": [
    {
      "cell_type": "markdown",
      "metadata": {
        "id": "view-in-github",
        "colab_type": "text"
      },
      "source": [
        "<a href=\"https://colab.research.google.com/github/saiadityaurumu53/My-DSA-Repo/blob/main/Recursion_Topics.ipynb\" target=\"_parent\"><img src=\"https://colab.research.google.com/assets/colab-badge.svg\" alt=\"Open In Colab\"/></a>"
      ]
    },
    {
      "cell_type": "markdown",
      "source": [
        "Problem 1: Print the Name N times!"
      ],
      "metadata": {
        "id": "R1SWqj-lHHlj"
      }
    },
    {
      "cell_type": "code",
      "execution_count": null,
      "metadata": {
        "id": "jvoIyV7VDK_0"
      },
      "outputs": [],
      "source": [
        "count = 5\n",
        "\n",
        "def print_name():\n",
        "  global count\n",
        "  if count <= 0:\n",
        "    return\n",
        "  print(\"Adii Monii\")\n",
        "  count -= 1\n",
        "  print_name()\n",
        "\n"
      ]
    },
    {
      "cell_type": "code",
      "source": [
        "print_name()"
      ],
      "metadata": {
        "colab": {
          "base_uri": "https://localhost:8080/"
        },
        "id": "UN_yYKqWDlV0",
        "outputId": "f98a455b-7d1f-4232-d1b6-b14fe686fc8a"
      },
      "execution_count": null,
      "outputs": [
        {
          "output_type": "stream",
          "name": "stdout",
          "text": [
            "Adii Monii\n",
            "Adii Monii\n",
            "Adii Monii\n",
            "Adii Monii\n",
            "Adii Monii\n"
          ]
        }
      ]
    },
    {
      "cell_type": "code",
      "source": [
        "\n",
        "def print_name2(i, n):\n",
        "  #writing the base case\n",
        "  if i > n :\n",
        "    return\n",
        "  #now printing the name\n",
        "  print(\"Adii Monii\")\n",
        "  print_name2(i+1, n)\n"
      ],
      "metadata": {
        "id": "2E3XGVuuDpkc"
      },
      "execution_count": null,
      "outputs": []
    },
    {
      "cell_type": "code",
      "source": [
        "print_name2(1,5)"
      ],
      "metadata": {
        "colab": {
          "base_uri": "https://localhost:8080/"
        },
        "id": "BOkd3k7WFx22",
        "outputId": "4ce873a3-fa84-4599-d0d2-906cdefc8b20"
      },
      "execution_count": null,
      "outputs": [
        {
          "output_type": "stream",
          "name": "stdout",
          "text": [
            "Adii Monii\n",
            "Adii Monii\n",
            "Adii Monii\n",
            "Adii Monii\n",
            "Adii Monii\n"
          ]
        }
      ]
    },
    {
      "cell_type": "markdown",
      "source": [
        "Problem 2: Print linearly from 1 to N"
      ],
      "metadata": {
        "id": "CQmA0p_fHNA2"
      }
    },
    {
      "cell_type": "code",
      "source": [
        "def print_number(i,n):\n",
        "  if i > n:\n",
        "    return\n",
        "  print(i)\n",
        "  print_number(i + 1 , n)"
      ],
      "metadata": {
        "id": "9hI0QbuXF0RS"
      },
      "execution_count": null,
      "outputs": []
    },
    {
      "cell_type": "code",
      "source": [
        "print_number(1,5)"
      ],
      "metadata": {
        "id": "n2fGKGOObDO8",
        "outputId": "ac8139c6-8832-4cce-d3f3-90d890880fa7",
        "colab": {
          "base_uri": "https://localhost:8080/"
        }
      },
      "execution_count": null,
      "outputs": [
        {
          "output_type": "stream",
          "name": "stdout",
          "text": [
            "1\n",
            "2\n",
            "3\n",
            "4\n",
            "5\n"
          ]
        }
      ]
    },
    {
      "cell_type": "markdown",
      "source": [
        "Problem 3: Print number in reverse order N to 1"
      ],
      "metadata": {
        "id": "h3P0OzbScSzn"
      }
    },
    {
      "cell_type": "code",
      "source": [
        "def print_reverse_numbers(i,n):\n",
        "  if i == 0:\n",
        "    return\n",
        "  print(i)\n",
        "  print_reverse_numbers(i-1, n)\n"
      ],
      "metadata": {
        "id": "6Y-KKKZcbHNK"
      },
      "execution_count": 22,
      "outputs": []
    },
    {
      "cell_type": "code",
      "source": [
        "print_reverse_numbers(5,5)"
      ],
      "metadata": {
        "colab": {
          "base_uri": "https://localhost:8080/"
        },
        "id": "eZMH6EDZc6L0",
        "outputId": "2ac2e82d-c056-4ceb-fb13-b0fd25e5b572"
      },
      "execution_count": 23,
      "outputs": [
        {
          "output_type": "stream",
          "name": "stdout",
          "text": [
            "5\n",
            "4\n",
            "3\n",
            "2\n",
            "1\n"
          ]
        }
      ]
    },
    {
      "cell_type": "markdown",
      "source": [
        "Problem 4: Print 1 to N using Back Tracking: i.e., print statement after the recursion call"
      ],
      "metadata": {
        "id": "3UdrPO1HiALe"
      }
    },
    {
      "cell_type": "code",
      "source": [
        "N=5\n",
        "def print_number_backtracking(i,N):\n",
        "  if i <= 0:\n",
        "    return\n",
        "\n",
        "  #Now we will recursively go\n",
        "  print_number_backtracking(i-1, N)\n",
        "  print(i)\n"
      ],
      "metadata": {
        "id": "71dtUoGQc9Ij"
      },
      "execution_count": 24,
      "outputs": []
    },
    {
      "cell_type": "code",
      "source": [
        "print_number_backtracking(5,5)"
      ],
      "metadata": {
        "colab": {
          "base_uri": "https://localhost:8080/"
        },
        "id": "OTcc1wFnj2Ac",
        "outputId": "15af9809-0cb4-4af5-c15e-77bbe9801fa3"
      },
      "execution_count": 25,
      "outputs": [
        {
          "output_type": "stream",
          "name": "stdout",
          "text": [
            "1\n",
            "2\n",
            "3\n",
            "4\n",
            "5\n"
          ]
        }
      ]
    },
    {
      "cell_type": "markdown",
      "source": [
        "Problem 5: Print from N to 1 using Backtracking"
      ],
      "metadata": {
        "id": "eoVBLkO8lBRa"
      }
    },
    {
      "cell_type": "code",
      "source": [
        "def print_reverse_number_backtracking(i,n):\n",
        "  if i > n:\n",
        "    return\n",
        "\n",
        "  print_reverse_number_backtracking(i+1, n)\n",
        "  print(i)"
      ],
      "metadata": {
        "id": "cojkEsmmj5Oy"
      },
      "execution_count": 26,
      "outputs": []
    },
    {
      "cell_type": "code",
      "source": [
        "print_reverse_number_backtracking(1,5)"
      ],
      "metadata": {
        "colab": {
          "base_uri": "https://localhost:8080/"
        },
        "id": "pWabTn_jlTPE",
        "outputId": "4407a5b8-e29b-4ce2-d92f-45167df2b91c"
      },
      "execution_count": 28,
      "outputs": [
        {
          "output_type": "stream",
          "name": "stdout",
          "text": [
            "5\n",
            "4\n",
            "3\n",
            "2\n",
            "1\n"
          ]
        }
      ]
    },
    {
      "cell_type": "markdown",
      "source": [
        "##Chapter 3 : Parameterized Recursion and Functional Recursion"
      ],
      "metadata": {
        "id": "IwfkM_MVsGaX"
      }
    },
    {
      "cell_type": "markdown",
      "source": [
        "Problem 6: Summation of the Frist N numbers"
      ],
      "metadata": {
        "id": "UicmLBZnsMb5"
      }
    },
    {
      "cell_type": "code",
      "source": [
        "#PARAMETERIZED\n",
        "def summation(i, N, Sum1):\n",
        "  if i > N:\n",
        "    print(Sum1)\n",
        "    return\n",
        "  print(i)\n",
        "  summation(i+1, N, Sum1 + i)"
      ],
      "metadata": {
        "id": "zmq3GKdblWXz"
      },
      "execution_count": 34,
      "outputs": []
    },
    {
      "cell_type": "code",
      "source": [
        "summation(0,5,0)"
      ],
      "metadata": {
        "colab": {
          "base_uri": "https://localhost:8080/"
        },
        "id": "-Fr-xtHjsx07",
        "outputId": "1204a4df-b0c1-4d79-bd61-31714bc676c7"
      },
      "execution_count": 35,
      "outputs": [
        {
          "output_type": "stream",
          "name": "stdout",
          "text": [
            "0\n",
            "1\n",
            "2\n",
            "3\n",
            "4\n",
            "5\n",
            "15\n"
          ]
        }
      ]
    },
    {
      "cell_type": "code",
      "source": [
        "# FUNCTIONAL RECURSION\n",
        "def functional_recursion(n):\n",
        "  if n == 0:\n",
        "    return 0\n",
        "\n",
        "  return (n + functional_recursion(n-1))"
      ],
      "metadata": {
        "id": "kYBBHFICs0_T"
      },
      "execution_count": 39,
      "outputs": []
    },
    {
      "cell_type": "code",
      "source": [
        "print(functional_recursion(3))"
      ],
      "metadata": {
        "colab": {
          "base_uri": "https://localhost:8080/"
        },
        "id": "CJY0dWRTzZS8",
        "outputId": "e6a01244-67d3-45ff-e203-1cf6ac8a8358"
      },
      "execution_count": 41,
      "outputs": [
        {
          "output_type": "stream",
          "name": "stdout",
          "text": [
            "6\n"
          ]
        }
      ]
    },
    {
      "cell_type": "code",
      "source": [],
      "metadata": {
        "id": "e8EUET6Izs50"
      },
      "execution_count": null,
      "outputs": []
    }
  ]
}