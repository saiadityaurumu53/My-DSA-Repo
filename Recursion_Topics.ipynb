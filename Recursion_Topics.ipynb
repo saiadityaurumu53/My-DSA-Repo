{
  "nbformat": 4,
  "nbformat_minor": 0,
  "metadata": {
    "colab": {
      "provenance": [],
      "authorship_tag": "ABX9TyN5Ee7VtNmF79P50KbNKX4D",
      "include_colab_link": true
    },
    "kernelspec": {
      "name": "python3",
      "display_name": "Python 3"
    },
    "language_info": {
      "name": "python"
    }
  },
  "cells": [
    {
      "cell_type": "markdown",
      "metadata": {
        "id": "view-in-github",
        "colab_type": "text"
      },
      "source": [
        "<a href=\"https://colab.research.google.com/github/saiadityaurumu53/My-DSA-Repo/blob/main/Recursion_Topics.ipynb\" target=\"_parent\"><img src=\"https://colab.research.google.com/assets/colab-badge.svg\" alt=\"Open In Colab\"/></a>"
      ]
    },
    {
      "cell_type": "markdown",
      "source": [
        "## Important key points for the Recursion\n",
        "\n",
        "1. Recursion\n",
        "2. Base Case\n",
        "3. Stack Overflow\n",
        "4. Stack Space\n",
        "5. Recursion Tree"
      ],
      "metadata": {
        "id": "hpSEuMuenjIC"
      }
    },
    {
      "cell_type": "markdown",
      "source": [
        "Here are clear and concise definitions for each of the key recursion concepts in the context of **Data Structures and Algorithms (DSA):**\n",
        "\n",
        "---\n",
        "\n",
        "### 1. **Recursion**\n",
        "\n",
        "Recursion is a programming technique where a function calls itself to solve a smaller subproblem of the original task. It's often used when a problem can be divided into similar subproblems (e.g., factorial, tree traversals, etc.).\n",
        "\n",
        "**Example:**\n",
        "\n",
        "```python\n",
        "def factorial(n):\n",
        "    if n == 0:\n",
        "        return 1\n",
        "    return n * factorial(n - 1)\n",
        "```\n",
        "\n",
        "---\n",
        "\n",
        "### 2. **Base Case**\n",
        "\n",
        "The base case is the stopping condition for recursion. It prevents infinite recursion by defining the simplest, smallest input that can be solved directly without further recursive calls.\n",
        "\n",
        "**Example:**\n",
        "In the `factorial(n)` example, the base case is `if n == 0: return 1`.\n",
        "\n",
        "---\n",
        "\n",
        "### 3. **Stack Overflow**\n",
        "\n",
        "Stack Overflow occurs when a recursive function calls itself too many times without reaching the base case, exceeding the system's call stack limit. This typically happens due to missing or incorrect base cases or very deep recursion.\n",
        "\n",
        "**Example Cause:**\n",
        "\n",
        "```python\n",
        "def infinite_recursion():\n",
        "    return infinite_recursion()\n",
        "```\n",
        "\n",
        "---\n",
        "\n",
        "### 4. **Stack Space**\n",
        "\n",
        "Each recursive call consumes a portion of the program’s **call stack**, which stores the return address and local variables of each function. The total stack space used is proportional to the **depth** of recursion.\n",
        "\n",
        "**Key Point:** Recursive algorithms should be optimized to avoid excessive stack usage (e.g., by using tail recursion or converting to iteration).\n",
        "\n",
        "---\n",
        "\n",
        "### 5. **Recursion Tree**\n",
        "\n",
        "A recursion tree is a visual representation of the recursive calls made during the execution of a function. It helps analyze the time complexity by showing how the problem breaks down into subproblems.\n",
        "\n",
        "**Example:**\n",
        "For `fib(n) = fib(n-1) + fib(n-2)`, the recursion tree shows two branches for each call, forming a binary tree structure.\n",
        "\n",
        "---\n",
        "\n",
        "Let me know if you want illustrations or complexity analysis examples for these!\n"
      ],
      "metadata": {
        "id": "AY0TXYZzn_Ej"
      }
    },
    {
      "cell_type": "markdown",
      "source": [
        "Problem 1: Print the Name N times!"
      ],
      "metadata": {
        "id": "R1SWqj-lHHlj"
      }
    },
    {
      "cell_type": "code",
      "execution_count": null,
      "metadata": {
        "id": "jvoIyV7VDK_0"
      },
      "outputs": [],
      "source": [
        "count = 5\n",
        "\n",
        "def print_name():\n",
        "  global count\n",
        "  if count <= 0:\n",
        "    return\n",
        "  print(\"Adii Monii\")\n",
        "  count -= 1\n",
        "  print_name()\n",
        "\n"
      ]
    },
    {
      "cell_type": "code",
      "source": [
        "print_name()"
      ],
      "metadata": {
        "colab": {
          "base_uri": "https://localhost:8080/"
        },
        "id": "UN_yYKqWDlV0",
        "outputId": "f98a455b-7d1f-4232-d1b6-b14fe686fc8a"
      },
      "execution_count": null,
      "outputs": [
        {
          "output_type": "stream",
          "name": "stdout",
          "text": [
            "Adii Monii\n",
            "Adii Monii\n",
            "Adii Monii\n",
            "Adii Monii\n",
            "Adii Monii\n"
          ]
        }
      ]
    },
    {
      "cell_type": "code",
      "source": [
        "\n",
        "def print_name2(i, n):\n",
        "  #writing the base case\n",
        "  if i > n :\n",
        "    return\n",
        "  #now printing the name\n",
        "  print(\"Adii Monii\")\n",
        "  print_name2(i+1, n)\n"
      ],
      "metadata": {
        "id": "2E3XGVuuDpkc"
      },
      "execution_count": null,
      "outputs": []
    },
    {
      "cell_type": "code",
      "source": [
        "print_name2(1,5)"
      ],
      "metadata": {
        "colab": {
          "base_uri": "https://localhost:8080/"
        },
        "id": "BOkd3k7WFx22",
        "outputId": "4ce873a3-fa84-4599-d0d2-906cdefc8b20"
      },
      "execution_count": null,
      "outputs": [
        {
          "output_type": "stream",
          "name": "stdout",
          "text": [
            "Adii Monii\n",
            "Adii Monii\n",
            "Adii Monii\n",
            "Adii Monii\n",
            "Adii Monii\n"
          ]
        }
      ]
    },
    {
      "cell_type": "markdown",
      "source": [
        "Problem 2: Print linearly from 1 to N"
      ],
      "metadata": {
        "id": "CQmA0p_fHNA2"
      }
    },
    {
      "cell_type": "code",
      "source": [
        "def print_number(i,n):\n",
        "  if i > n:\n",
        "    return\n",
        "  print(i)\n",
        "  print_number(i + 1 , n)"
      ],
      "metadata": {
        "id": "9hI0QbuXF0RS"
      },
      "execution_count": null,
      "outputs": []
    },
    {
      "cell_type": "code",
      "source": [
        "print_number(1,5)"
      ],
      "metadata": {
        "id": "n2fGKGOObDO8",
        "outputId": "ac8139c6-8832-4cce-d3f3-90d890880fa7",
        "colab": {
          "base_uri": "https://localhost:8080/"
        }
      },
      "execution_count": null,
      "outputs": [
        {
          "output_type": "stream",
          "name": "stdout",
          "text": [
            "1\n",
            "2\n",
            "3\n",
            "4\n",
            "5\n"
          ]
        }
      ]
    },
    {
      "cell_type": "markdown",
      "source": [
        "Problem 3: Print number in reverse order N to 1"
      ],
      "metadata": {
        "id": "h3P0OzbScSzn"
      }
    },
    {
      "cell_type": "code",
      "source": [
        "def print_reverse_numbers(i,n):\n",
        "  if i == 0:\n",
        "    return\n",
        "  print(i)\n",
        "  print_reverse_numbers(i-1, n)\n"
      ],
      "metadata": {
        "id": "6Y-KKKZcbHNK"
      },
      "execution_count": 22,
      "outputs": []
    },
    {
      "cell_type": "code",
      "source": [
        "print_reverse_numbers(5,5)"
      ],
      "metadata": {
        "colab": {
          "base_uri": "https://localhost:8080/"
        },
        "id": "eZMH6EDZc6L0",
        "outputId": "2ac2e82d-c056-4ceb-fb13-b0fd25e5b572"
      },
      "execution_count": 23,
      "outputs": [
        {
          "output_type": "stream",
          "name": "stdout",
          "text": [
            "5\n",
            "4\n",
            "3\n",
            "2\n",
            "1\n"
          ]
        }
      ]
    },
    {
      "cell_type": "markdown",
      "source": [
        "Problem 4: Print 1 to N using Back Tracking: i.e., print statement after the recursion call"
      ],
      "metadata": {
        "id": "3UdrPO1HiALe"
      }
    },
    {
      "cell_type": "code",
      "source": [
        "N=5\n",
        "def print_number_backtracking(i,N):\n",
        "  if i <= 0:\n",
        "    return\n",
        "\n",
        "  #Now we will recursively go\n",
        "  print_number_backtracking(i-1, N)\n",
        "  print(i)\n"
      ],
      "metadata": {
        "id": "71dtUoGQc9Ij"
      },
      "execution_count": 24,
      "outputs": []
    },
    {
      "cell_type": "code",
      "source": [
        "print_number_backtracking(5,5)"
      ],
      "metadata": {
        "colab": {
          "base_uri": "https://localhost:8080/"
        },
        "id": "OTcc1wFnj2Ac",
        "outputId": "15af9809-0cb4-4af5-c15e-77bbe9801fa3"
      },
      "execution_count": 25,
      "outputs": [
        {
          "output_type": "stream",
          "name": "stdout",
          "text": [
            "1\n",
            "2\n",
            "3\n",
            "4\n",
            "5\n"
          ]
        }
      ]
    },
    {
      "cell_type": "markdown",
      "source": [
        "Problem 5: Print from N to 1 using Backtracking"
      ],
      "metadata": {
        "id": "eoVBLkO8lBRa"
      }
    },
    {
      "cell_type": "code",
      "source": [
        "def print_reverse_number_backtracking(i,n):\n",
        "  if i > n:\n",
        "    return\n",
        "\n",
        "  print_reverse_number_backtracking(i+1, n)\n",
        "  print(i)"
      ],
      "metadata": {
        "id": "cojkEsmmj5Oy"
      },
      "execution_count": 26,
      "outputs": []
    },
    {
      "cell_type": "code",
      "source": [
        "print_reverse_number_backtracking(1,5)"
      ],
      "metadata": {
        "colab": {
          "base_uri": "https://localhost:8080/"
        },
        "id": "pWabTn_jlTPE",
        "outputId": "4407a5b8-e29b-4ce2-d92f-45167df2b91c"
      },
      "execution_count": 28,
      "outputs": [
        {
          "output_type": "stream",
          "name": "stdout",
          "text": [
            "5\n",
            "4\n",
            "3\n",
            "2\n",
            "1\n"
          ]
        }
      ]
    },
    {
      "cell_type": "markdown",
      "source": [
        "##Chapter 3 : Parameterized Recursion and Functional Recursion"
      ],
      "metadata": {
        "id": "IwfkM_MVsGaX"
      }
    },
    {
      "cell_type": "markdown",
      "source": [
        "Problem 6: Summation of the Frist N numbers"
      ],
      "metadata": {
        "id": "UicmLBZnsMb5"
      }
    },
    {
      "cell_type": "code",
      "source": [
        "#PARAMETERIZED\n",
        "def summation(i, N, Sum1):\n",
        "  if i > N:\n",
        "    print(Sum1)\n",
        "    return\n",
        "  print(i)\n",
        "  summation(i+1, N, Sum1 + i)"
      ],
      "metadata": {
        "id": "zmq3GKdblWXz"
      },
      "execution_count": 34,
      "outputs": []
    },
    {
      "cell_type": "code",
      "source": [
        "summation(0,5,0)"
      ],
      "metadata": {
        "colab": {
          "base_uri": "https://localhost:8080/"
        },
        "id": "-Fr-xtHjsx07",
        "outputId": "1204a4df-b0c1-4d79-bd61-31714bc676c7"
      },
      "execution_count": 35,
      "outputs": [
        {
          "output_type": "stream",
          "name": "stdout",
          "text": [
            "0\n",
            "1\n",
            "2\n",
            "3\n",
            "4\n",
            "5\n",
            "15\n"
          ]
        }
      ]
    },
    {
      "cell_type": "code",
      "source": [
        "# FUNCTIONAL RECURSION\n",
        "def functional_recursion(n):\n",
        "  if n == 0:\n",
        "    return 0\n",
        "\n",
        "  return (n + functional_recursion(n-1))"
      ],
      "metadata": {
        "id": "kYBBHFICs0_T"
      },
      "execution_count": 39,
      "outputs": []
    },
    {
      "cell_type": "code",
      "source": [
        "print(functional_recursion(3))"
      ],
      "metadata": {
        "colab": {
          "base_uri": "https://localhost:8080/"
        },
        "id": "CJY0dWRTzZS8",
        "outputId": "e6a01244-67d3-45ff-e203-1cf6ac8a8358"
      },
      "execution_count": 41,
      "outputs": [
        {
          "output_type": "stream",
          "name": "stdout",
          "text": [
            "6\n"
          ]
        }
      ]
    },
    {
      "cell_type": "markdown",
      "source": [
        "##Chapter 4 : Problems on Recursion\n",
        "\n",
        "1. Reverse an array using Recursion\n",
        "2. Check if a string is palindrome or not using recursion.\n"
      ],
      "metadata": {
        "id": "XAKLBGMRdiLK"
      }
    },
    {
      "cell_type": "code",
      "source": [
        "arr = [1,2,3,4]\n",
        "\n"
      ],
      "metadata": {
        "id": "e8EUET6Izs50"
      },
      "execution_count": 1,
      "outputs": []
    },
    {
      "cell_type": "code",
      "source": [
        "def reverse_array_elements(l,r):\n",
        "  if l >= r:\n",
        "    #now we can return\n",
        "    return\n",
        "\n",
        "  arr[l], arr[r] = arr[r], arr[l]\n",
        "  reverse_array_elements(l+1, r-1)"
      ],
      "metadata": {
        "id": "-oMbjqrKdy-l"
      },
      "execution_count": 2,
      "outputs": []
    },
    {
      "cell_type": "code",
      "source": [
        "reverse_array_elements(0,len(arr)-1)"
      ],
      "metadata": {
        "id": "iIwH28GCeEvE"
      },
      "execution_count": 7,
      "outputs": []
    },
    {
      "cell_type": "code",
      "source": [
        "print(arr)"
      ],
      "metadata": {
        "colab": {
          "base_uri": "https://localhost:8080/"
        },
        "id": "aMVkAMgEeIya",
        "outputId": "24621cb2-3595-44f8-b949-bdcd749b1d2e"
      },
      "execution_count": 8,
      "outputs": [
        {
          "output_type": "stream",
          "name": "stdout",
          "text": [
            "[4, 3, 2, 1]\n"
          ]
        }
      ]
    },
    {
      "cell_type": "code",
      "source": [
        "checking_strings = [\"aba\",\n",
        "                    \"madam\",\n",
        "                    \"onepiece\"]"
      ],
      "metadata": {
        "id": "NV53abIeeKWK"
      },
      "execution_count": 13,
      "outputs": []
    },
    {
      "cell_type": "code",
      "source": [
        "def check_palindrome_string(i, string1):\n",
        "  if (i >= len(string1)//2):\n",
        "    return True\n",
        "\n",
        "  #the null condition of the base case is set to zero\n",
        "  #now we will check the current left and right elements\n",
        "  current_condition = (string1[i] == string1[len(string1) -i -1])\n",
        "  return current_condition and (check_palindrome_string(i+1, string1))"
      ],
      "metadata": {
        "id": "jF_6CAaGgNp5"
      },
      "execution_count": 14,
      "outputs": []
    },
    {
      "cell_type": "code",
      "source": [
        "\n",
        "for str1 in checking_strings:\n",
        "  print(check_palindrome_string(0,str1))\n"
      ],
      "metadata": {
        "colab": {
          "base_uri": "https://localhost:8080/"
        },
        "id": "nE2Jrv52gzjP",
        "outputId": "cc8b112d-821e-470b-9ca4-ac57b8a319ef"
      },
      "execution_count": 16,
      "outputs": [
        {
          "output_type": "stream",
          "name": "stdout",
          "text": [
            "True\n",
            "True\n",
            "False\n"
          ]
        }
      ]
    },
    {
      "cell_type": "code",
      "source": [],
      "metadata": {
        "colab": {
          "base_uri": "https://localhost:8080/"
        },
        "id": "doalynTcg4-r",
        "outputId": "f128dc38-c697-48c8-adba-d58bc63eb33a"
      },
      "execution_count": 12,
      "outputs": [
        {
          "output_type": "execute_result",
          "data": {
            "text/plain": [
              "True"
            ]
          },
          "metadata": {},
          "execution_count": 12
        }
      ]
    },
    {
      "cell_type": "markdown",
      "source": [
        "## Chapter 5: Multiple Recursion calls\n",
        "\n",
        "1. Print the nth fibonacci series number using functional recursion"
      ],
      "metadata": {
        "id": "mIoBPdCDi7kx"
      }
    },
    {
      "cell_type": "code",
      "source": [
        "def generate_n_fibonacci(n):\n",
        "  #here we will check if the n is 0 or 1\n",
        "  if (n == 0) or (n == 1):\n",
        "    return n\n",
        "\n",
        "  #now we wrote the base case and hence we will find the fibonacci series number\n",
        "  first_element = generate_n_fibonacci(n-1)\n",
        "  second_element = generate_n_fibonacci(n-2)\n",
        "\n",
        "  return (first_element + second_element)"
      ],
      "metadata": {
        "id": "kzfCcImYg8cl"
      },
      "execution_count": 17,
      "outputs": []
    },
    {
      "cell_type": "code",
      "source": [
        "generate_n_fibonacci(6)"
      ],
      "metadata": {
        "colab": {
          "base_uri": "https://localhost:8080/"
        },
        "id": "TDcc5DODlLnV",
        "outputId": "72d2ce8b-5530-4ecf-8eae-2f6304f3dd41"
      },
      "execution_count": 18,
      "outputs": [
        {
          "output_type": "execute_result",
          "data": {
            "text/plain": [
              "8"
            ]
          },
          "metadata": {},
          "execution_count": 18
        }
      ]
    },
    {
      "cell_type": "markdown",
      "source": [
        "## Chapter 6: Recursion on Subsequences"
      ],
      "metadata": {
        "id": "mH7cLVdwodYI"
      }
    },
    {
      "cell_type": "code",
      "source": [],
      "metadata": {
        "id": "MjNeqcF2lQHq"
      },
      "execution_count": null,
      "outputs": []
    }
  ]
}